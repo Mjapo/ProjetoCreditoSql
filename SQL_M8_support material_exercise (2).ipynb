{
  "cells": [
    {
      "attachments": {},
      "cell_type": "markdown",
      "metadata": {
        "id": "vvlBORqbTPQp"
      },
      "source": [
        "---"
      ]
    },
    {
      "attachments": {},
      "cell_type": "markdown",
      "metadata": {
        "id": "ym_TsGX5_6Nd"
      },
      "source": [
        "# **1. Criação da tabela e algumas queries**\n",
        "\n",
        "\n",
        "```sql\n",
        "CREATE EXTERNAL TABLE IF NOT EXISTS default.credito ( \n",
        "  `idade` int,\n",
        "  `sexo` string,\n",
        "  `dependentes` int,\n",
        "  `escolaridade` string,\n",
        "  `estado_civil` string,\n",
        "  `salario_anual` string,\n",
        "  `tipo_cartao` string, \n",
        "  `qtd_produtos` bigint,\n",
        "  `iteracoes_12m` int,\n",
        "  `meses_inativo_12m` int,\n",
        "  `limite_credito` float,\n",
        "  `valor_transacoes_12m` float,\n",
        "  `qtd_transacoes_12m` int \n",
        ")\n",
        "ROW FORMAT SERDE 'org.apache.hadoop.hive.serde2.lazy.LazySimpleSerDe'\n",
        "WITH SERDEPROPERTIES (\n",
        "  'serialization.format' = ',',\n",
        "  'field.delim' = ','\n",
        ") LOCATION <sua-localizacao>\n",
        "TBLPROPERTIES ('has_encrypted_data'='false');\n",
        "```\n",
        "\n",
        "Utilizaremos a tabela para o projeto.\n",
        "\n",
        "Abaixo vão algumas dicas de queries que podem ser utilizadas. Sugiro que crie novas, com outras funcionalidades não utilizadas aqui e faça novas perguntas para o dataset.\n",
        "\n",
        "```sql\n",
        "select * from credito limit 10;\n",
        "```\n",
        "\n",
        "```sql\n",
        "select count(*) from credito\n",
        "```\n",
        "```sql\n",
        "DESCRIBE credito\n",
        "```\n",
        "\n",
        "```sql\n",
        "SELECT DISTINCT escolaridade FROM credito\n",
        "```\n",
        "\n",
        "```sql\n",
        "select count(*), salario_anual from credito group by salario_anual\n",
        "```\n",
        "\n",
        "```sql\n",
        "select count(*), sexo from credito group by sexo\n",
        "```\n",
        "\n",
        "```sql\n",
        "select max(limite_credito) as limite_credito, escolaridade, tipo_cartao, sexo from credito \n",
        "where escolaridade != 'na' and tipo_cartao != 'na' \n",
        "group by escolaridade, tipo_cartao, sexo \n",
        "order by limite_credito desc \n",
        "limit 10\n",
        "```\n",
        "\n",
        "```sql\n",
        "select max(valor_transacoes_12m) as maior_valor_gasto, avg(valor_transacoes_12m) as media_valor_gasto, min(valor_transacoes_12m) as min_valor_gasto, sexo \n",
        "from credito \n",
        "group by sexo\n",
        "```\n",
        "\n",
        "```sql\n",
        "select avg(qtd_produtos) as qts_produtos, avg(valor_transacoes_12m) as media_valor_transacoes, avg(limite_credito) as media_limite, sexo, salario_anual \n",
        "from credito \n",
        "where salario_anual != 'na' \n",
        "group by sexo, salario_anual \n",
        "order by avg(valor_transacoes_12m) desc\n",
        "```"
      ]
    }
  ],
  "metadata": {
    "colab": {
      "collapsed_sections": [],
      "name": "modulo_8_exercicio.ipynb",
      "provenance": [],
      "toc_visible": true
    },
    "kernelspec": {
      "display_name": "Python 3",
      "name": "python3"
    }
  },
  "nbformat": 4,
  "nbformat_minor": 0
}
